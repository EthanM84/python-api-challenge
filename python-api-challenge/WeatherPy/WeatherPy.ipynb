{
 "cells": [
  {
   "cell_type": "markdown",
   "metadata": {},
   "source": [
    "# WeatherPy\n",
    "\n",
    "---\n",
    "\n",
    "## Starter Code to Generate Random Geographic Coordinates and a List of Cities"
   ]
  },
  {
   "cell_type": "code",
   "execution_count": null,
   "metadata": {
    "scrolled": true,
    "tags": []
   },
   "outputs": [],
   "source": [
    "# Dependencies and Setup\n",
    "import matplotlib.pyplot as plt\n",
    "import pandas as pd\n",
    "import numpy as np\n",
    "import requests\n",
    "import time\n",
    "from scipy.stats import linregress\n",
    "from datetime import datetime\n",
    "\n",
    "# Impor the OpenWeatherMap API key\n",
    "from api_keys import weather_api_key\n",
    "\n",
    "# Import citipy to determine the cities based on latitude and longitude\n",
    "from citipy import citipy\n"
   ]
  },
  {
   "cell_type": "markdown",
   "metadata": {},
   "source": [
    "### Generate the Cities List by Using the `citipy` Library"
   ]
  },
  {
   "cell_type": "code",
   "execution_count": null,
   "metadata": {
    "tags": []
   },
   "outputs": [],
   "source": [
    "# Empty list for holding the latitude and longitude combinations\n",
    "lat_lngs = []\n",
    "\n",
    "# Empty list for holding the cities names\n",
    "cities = []\n",
    "\n",
    "# Range of latitudes and longitudes\n",
    "lat_range = (-90, 90)\n",
    "lng_range = (-180, 180)\n",
    "\n",
    "# Create a set of random lat and lng combinations\n",
    "lats = np.random.uniform(lat_range[0], lat_range[1], size=1500)\n",
    "lngs = np.random.uniform(lng_range[0], lng_range[1], size=1500)\n",
    "lat_lngs = zip(lats, lngs)\n",
    "\n",
    "# Identify nearest city for each lat, lng combination\n",
    "for lat_lng in lat_lngs:\n",
    "    city = citipy.nearest_city(lat_lng[0], lat_lng[1]).city_name\n",
    "    \n",
    "    # If the city is unique, then add it to a our cities list\n",
    "    if city not in cities:\n",
    "        cities.append(city)\n",
    "\n",
    "# Print the city count to confirm sufficient count\n",
    "print(f\"Number of cities in the list: {len(cities)}\") \n"
   ]
  },
  {
   "cell_type": "markdown",
   "metadata": {},
   "source": [
    "---"
   ]
  },
  {
   "cell_type": "markdown",
   "metadata": {},
   "source": [
    "## Requirement 1: Create Plots to Showcase the Relationship Between Weather Variables and Latitude\n",
    "\n",
    "### Use the OpenWeatherMap API to retrieve weather data from the cities list generated in the started code"
   ]
  },
  {
   "cell_type": "code",
   "execution_count": null,
   "metadata": {},
   "outputs": [],
   "source": [
    "# Set the API base URL\n",
    "url = \"https://api.openweathermap.org/data/2.5/weather\"\n",
    "units = \"imperial\"\n",
    "\n",
    "# Define an empty list to fetch the weather data for each city\n",
    "city_data = []\n",
    "\n",
    "# Print to logger\n",
    "print(\"Beginning Data Retrieval\")\n",
    "print(\"-----------------------------\")\n",
    "\n",
    "# Create counters\n",
    "record_count = 1\n",
    "set_count = 1\n",
    "\n",
    "# Loop through all the cities in our list to fetch weather data\n",
    "for i, city in enumerate(cities):\n",
    "\n",
    "    # Group cities in sets of 50 for logging purposes\n",
    "    if (i % 50 == 0 and i >= 50):\n",
    "        set_count += 1\n",
    "        record_count = 1\n",
    "\n",
    "    # Create endpoint URL with each city\n",
    "    city_url = f\"{url}?appid={weather_api_key}&units={units}&q={city}\"\n",
    "\n",
    "    # Log the url, record, and set numbers\n",
    "    print(f\"Processing Record {record_count} of Set {set_count} | {city}\")\n",
    "\n",
    "    # Add 1 to the record count\n",
    "    record_count += 1\n",
    "\n",
    "    # Run an API request for each of the cities\n",
    "    try:\n",
    "        # Get the JSON response\n",
    "        city_weather = requests.get(city_url).json()\n",
    "\n",
    "        # Parse out latitude, longitude, max temp, humidity, cloudiness, wind speed, country, and date\n",
    "        city_lat = city_weather['coord']['lat']\n",
    "        city_lng = city_weather['coord']['lon']\n",
    "        city_max_temp = city_weather['main']['temp_max']\n",
    "        city_humidity = city_weather['main']['humidity']\n",
    "        city_clouds = city_weather['clouds']['all']\n",
    "        city_wind = city_weather['wind']['speed']\n",
    "        city_country = city_weather['sys']['country']\n",
    "        city_date = datetime.fromtimestamp(city_weather['dt']).strftime('%Y-%m-%d %H:%M:%S')\n",
    "\n",
    "        # Append the City information into city_data list\n",
    "        city_data.append({\n",
    "            \"City\": city,\n",
    "            \"Lat\": city_lat,\n",
    "            \"Lng\": city_lng,\n",
    "            \"Max Temp\": city_max_temp,\n",
    "            \"Humidity\": city_humidity,\n",
    "            \"Cloudiness\": city_clouds,\n",
    "            \"Wind Speed\": city_wind,\n",
    "            \"Country\": city_country,\n",
    "            \"Date\": city_date\n",
    "        })\n",
    "\n",
    "    # If an error is experienced, skip the city\n",
    "    except:\n",
    "        print(\"City not found. Skipping...\")\n",
    "        pass\n",
    "\n",
    "# Indicate that Data Loading is complete\n",
    "print(\"-----------------------------\")\n",
    "print(\"Data Retrieval Complete\")\n",
    "print(\"-----------------------------\")\n"
   ]
  },
  {
   "cell_type": "code",
   "execution_count": null,
   "metadata": {
    "tags": []
   },
   "outputs": [],
   "source": [
    "# Convert the cities weather data into a Pandas DataFrame\n",
    "\n",
    "# Convert the city data to a DataFrame\n",
    "city_data_df = pd.DataFrame(city_data)\n",
    "\n",
    "# Show Record Count\n",
    "city_data_df.count()"
   ]
  },
  {
   "cell_type": "code",
   "execution_count": null,
   "metadata": {},
   "outputs": [],
   "source": [
    "# Display sample data\n",
    "city_data_df.head()"
   ]
  },
  {
   "cell_type": "code",
   "execution_count": null,
   "metadata": {
    "tags": []
   },
   "outputs": [],
   "source": [
    "# Export the City_Data to a CSV file in the output_data folder\n",
    "city_data_df.to_csv(\"output_data/city_data.csv\", index_label=\"City_ID\")\n"
   ]
  },
  {
   "cell_type": "code",
   "execution_count": null,
   "metadata": {},
   "outputs": [],
   "source": [
    "# Read saved data\n",
    "city_data_df = pd.read_csv(\"output_data/city_data.csv\", index_col=\"City_ID\")\n",
    "\n",
    "# Display sample data\n",
    "city_data_df.head()"
   ]
  },
  {
   "cell_type": "markdown",
   "metadata": {},
   "source": [
    "### Create the Scatter Plots Requested\n",
    "\n",
    "#### Latitude Vs. Temperature"
   ]
  },
  {
   "cell_type": "code",
   "execution_count": null,
   "metadata": {},
   "outputs": [],
   "source": [
    "# Convert Max Temperature from Fahrenheit to Celsius\n",
    "city_data_df[\"Max Temp (C)\"] = (city_data_df[\"Max Temp\"] - 32) * 5/9\n",
    "\n",
    "# Get the date from the DataFrame\n",
    "date = city_data_df[\"Date\"].iloc[0]\n",
    "\n",
    "# Build scatter plot for Latitude vs. Max Temperature in Celsius\n",
    "plt.scatter(city_data_df[\"Lat\"], city_data_df[\"Max Temp (C)\"], edgecolor=\"black\")\n",
    "\n",
    "# Set the title and labels\n",
    "plt.title(\"City Latitude vs. Max Temperature - \" + date)\n",
    "plt.xlabel(\"Latitude\")\n",
    "plt.ylabel(\"Max Temperature (Celsius)\")\n",
    "\n",
    "# Set the grid lines\n",
    "plt.grid(True)\n",
    "\n",
    "# Save the figure\n",
    "plt.savefig(\"output_data/Fig1.png\")\n",
    "\n",
    "# Show the plot\n",
    "plt.show()\n"
   ]
  },
  {
   "cell_type": "markdown",
   "metadata": {},
   "source": [
    "#### Latitude Vs. Humidity"
   ]
  },
  {
   "cell_type": "code",
   "execution_count": null,
   "metadata": {},
   "outputs": [],
   "source": [
    "# Build scatter plot for latitude vs. humidity\n",
    "plt.scatter(city_data_df[\"Lat\"], city_data_df[\"Humidity\"], edgecolor=\"black\")\n",
    "\n",
    "# Set the title and labels\n",
    "plt.title(\"City Latitude vs. Humidity - \" + city_data_df[\"Date\"].iloc[0])\n",
    "plt.xlabel(\"Latitude\")\n",
    "plt.ylabel(\"Humidity (%)\")\n",
    "\n",
    "# Set the grid lines\n",
    "plt.grid(True)\n",
    "\n",
    "# Save the figure\n",
    "plt.savefig(\"output_data/Fig2.png\")\n",
    "\n",
    "# Show the plot\n",
    "plt.show()\n"
   ]
  },
  {
   "cell_type": "markdown",
   "metadata": {},
   "source": [
    "#### Latitude Vs. Cloudiness"
   ]
  },
  {
   "cell_type": "code",
   "execution_count": null,
   "metadata": {
    "tags": []
   },
   "outputs": [],
   "source": [
    "# Build scatter plot for latitude vs. cloudiness\n",
    "plt.scatter(city_data_df[\"Lat\"], city_data_df[\"Cloudiness\"], edgecolor=\"black\")\n",
    "\n",
    "# Set the title and labels\n",
    "plt.title(\"City Latitude vs. Cloudiness - \" + city_data_df[\"Date\"].iloc[0])\n",
    "plt.xlabel(\"Latitude\")\n",
    "plt.ylabel(\"Cloudiness (%)\")\n",
    "\n",
    "# Set the grid lines\n",
    "plt.grid(True)\n",
    "\n",
    "# Save the figure\n",
    "plt.savefig(\"output_data/Fig3.png\")\n",
    "\n",
    "# Show the plot\n",
    "plt.show()\n"
   ]
  },
  {
   "cell_type": "markdown",
   "metadata": {},
   "source": [
    "#### Latitude vs. Wind Speed Plot"
   ]
  },
  {
   "cell_type": "code",
   "execution_count": null,
   "metadata": {},
   "outputs": [],
   "source": [
    "# Build scatter plot for latitude vs. wind speed\n",
    "plt.scatter(city_data_df[\"Lat\"], city_data_df[\"Wind Speed\"], edgecolor=\"black\")\n",
    "\n",
    "# Set the title and labels\n",
    "plt.title(f\"City Latitude vs. Wind Speed ({date})\")\n",
    "plt.xlabel(\"Latitude\")\n",
    "plt.ylabel(\"Wind Speed (mph)\")\n",
    "\n",
    "# Set the grid lines\n",
    "plt.grid(True)\n",
    "\n",
    "# Save the figure\n",
    "plt.savefig(\"output_data/Fig4.png\")\n",
    "\n",
    "# Show the plot\n",
    "plt.show()"
   ]
  },
  {
   "cell_type": "markdown",
   "metadata": {},
   "source": [
    "---\n",
    "\n",
    "## Requirement 2: Compute Linear Regression for Each Relationship\n"
   ]
  },
  {
   "cell_type": "code",
   "execution_count": null,
   "metadata": {},
   "outputs": [],
   "source": [
    "# Define a function to create Linear Regression plots\n",
    "def plot_linear_regression(x_values, y_values, x_label, y_label, title, file_name):\n",
    "    # Perform linear regression\n",
    "    (slope, intercept, rvalue, pvalue, stderr) = linregress(x_values, y_values)\n",
    "    \n",
    "    # Calculate the regression line\n",
    "    regress_values = x_values * slope + intercept\n",
    "    \n",
    "    # Create scatter plot and regression line\n",
    "    plt.scatter(x_values, y_values)\n",
    "    plt.plot(x_values, regress_values, \"r-\")\n",
    "    \n",
    "    # Annotate the equation of the line on the plot\n",
    "    equation = f\"y = {round(slope, 2)}x + {round(intercept, 2)}\"\n",
    "    plt.annotate(equation, (min(x_values), min(y_values)), fontsize=12, color=\"red\")\n",
    "    \n",
    "    # Set the title and labels\n",
    "    plt.title(title)\n",
    "    plt.xlabel(x_label)\n",
    "    plt.ylabel(y_label)\n",
    "    \n",
    "    # Save the plot\n",
    "    plt.savefig(file_name)\n",
    "    \n",
    "    # Show the plot\n",
    "    plt.show()\n"
   ]
  },
  {
   "cell_type": "code",
   "execution_count": null,
   "metadata": {},
   "outputs": [],
   "source": [
    "# Filter the city data for Northern Hemisphere (latitude >= 0)\n",
    "northern_hemi_df = city_data_df[city_data_df[\"Lat\"] >= 0]\n",
    "\n",
    "# Display sample data\n",
    "northern_hemi_df.head()\n"
   ]
  },
  {
   "cell_type": "code",
   "execution_count": null,
   "metadata": {},
   "outputs": [],
   "source": [
    "# Create a DataFrame with the Southern Hemisphere data (Latitude < 0)\n",
    "\n",
    "# Filter the city data for Southern Hemisphere (latitude < 0)\n",
    "southern_hemi_df = city_data_df[city_data_df[\"Lat\"] < 0]\n",
    "\n",
    "# Display sample data\n",
    "southern_hemi_df.head()\n"
   ]
  },
  {
   "cell_type": "markdown",
   "metadata": {},
   "source": [
    "###  Temperature vs. Latitude Linear Regression Plot"
   ]
  },
  {
   "cell_type": "code",
   "execution_count": null,
   "metadata": {},
   "outputs": [],
   "source": [
    "# Define a function to create Linear Regression plots\n",
    "def plot_linear_regression(x_values, y_values, title, xlabel, ylabel, coordinates):\n",
    "    # Convert temperature from Fahrenheit to Celsius\n",
    "    y_values = (y_values - 32) * 5/9\n",
    "    \n",
    "    # Perform linear regression\n",
    "    (slope, intercept, rvalue, pvalue, stderr) = linregress(x_values, y_values)\n",
    "    \n",
    "    # Calculate the regression line\n",
    "    regress_values = x_values * slope + intercept\n",
    "    \n",
    "    # Create the scatter plot\n",
    "    plt.scatter(x_values, y_values)\n",
    "    \n",
    "    # Plot the regression line\n",
    "    plt.plot(x_values, regress_values, color='red')\n",
    "    \n",
    "    # Annotate the equation of the line on the plot\n",
    "    equation = f\"y = {round(slope, 2)}x + {round(intercept, 2)}\"\n",
    "    plt.annotate(equation, coordinates, fontsize=15, color='red')\n",
    "    \n",
    "    # Add titles and labels\n",
    "    plt.title(title)\n",
    "    plt.xlabel(xlabel)\n",
    "    plt.ylabel(ylabel)\n",
    "    \n",
    "    # Print the r-squared value\n",
    "    print(f\"The r-squared is: {round(rvalue**2, 2)}\")\n",
    "    \n",
    "    # Show the plot\n",
    "    plt.show()\n",
    "\n",
    "# Perform linear regression on Northern Hemisphere temperature vs latitude\n",
    "x_values = northern_hemi_df[\"Lat\"]\n",
    "y_values = northern_hemi_df[\"Max Temp\"]\n",
    "plot_linear_regression(x_values, y_values, \"Linear Regression: Northern Hemisphere - Temperature vs. Latitude\",\n",
    "                       \"Latitude\", \"Max Temperature (°C)\", (0, -30))\n"
   ]
  },
  {
   "cell_type": "code",
   "execution_count": null,
   "metadata": {},
   "outputs": [],
   "source": [
    "# Perform linear regression on Southern Hemisphere temperature vs latitude\n",
    "x_values = southern_hemi_df[\"Lat\"]\n",
    "y_values = southern_hemi_df[\"Max Temp\"]\n",
    "plot_linear_regression(x_values, y_values, \"Linear Regression: Southern Hemisphere - Temperature vs. Latitude\",\n",
    "                       \"Latitude\", \"Max Temperature (°C)\", (-50, 40))\n"
   ]
  },
  {
   "cell_type": "markdown",
   "metadata": {},
   "source": [
    "Based on the linear regression analysis for the Cloudiness vs. Latitude in the Northern Hemisphere, we can observe that there is no strong linear relationship between these two variables. The regression line has a small positive slope, indicating a slight increase in cloudiness as we move towards higher latitudes in the Northern Hemisphere. However, the scatter plot of the data points shows a considerable amount of dispersion, suggesting that latitude alone may not be a strong predictor of cloudiness.\n",
    "\n",
    "The low R-squared value further supports this observation, indicating that only a small proportion of the variance in cloudiness can be explained by latitude in the Northern Hemisphere. Other factors such as local weather patterns, geography, and atmospheric conditions are likely to have a more significant influence on cloudiness levels.\n",
    "\n",
    "Therefore, while there is a weak positive trend between cloudiness and latitude in the Northern Hemisphere, it is important to consider additional factors and variables to gain a more comprehensive understanding of the cloudiness patterns in this region."
   ]
  },
  {
   "cell_type": "markdown",
   "metadata": {},
   "source": [
    "### Humidity vs. Latitude Linear Regression Plot"
   ]
  },
  {
   "cell_type": "code",
   "execution_count": null,
   "metadata": {},
   "outputs": [],
   "source": [
    "# Perform linear regression on Northern Hemisphere humidity vs latitude\n",
    "x_values = northern_hemi_df[\"Lat\"]\n",
    "y_values = northern_hemi_df[\"Humidity\"]\n",
    "plot_linear_regression(x_values, y_values, \"Linear Regression: Northern Hemisphere - Humidity vs. Latitude\",\n",
    "                       \"Latitude\", \"Humidity (%)\", (10, 40))\n"
   ]
  },
  {
   "cell_type": "code",
   "execution_count": null,
   "metadata": {},
   "outputs": [],
   "source": [
    "# Perform linear regression on Southern Hemisphere latitude vs humidity\n",
    "x_values = southern_hemi_df[\"Lat\"]\n",
    "y_values = southern_hemi_df[\"Humidity\"]\n",
    "plot_linear_regression(x_values, y_values, \"Linear Regression: Southern Hemisphere - Latitude vs. Humidity\",\n",
    "                       \"Latitude\", \"Humidity (%)\", (-50, 20))\n"
   ]
  },
  {
   "cell_type": "markdown",
   "metadata": {},
   "source": [
    "When comparing the linear relationships between the Southern Hemisphere and Northern Hemisphere plots, there are a few notable differences.\n",
    "\n",
    "In the Northern Hemisphere analysis, we observed a weak positive trend between latitude and the respective variable (e.g., temperature, humidity, cloudiness). The regression lines had small positive slopes, indicating a slight increase in the variable as we moved towards higher latitudes. However, the scatter plots exhibited considerable dispersion, suggesting that latitude alone may not be a strong predictor of the variable.\n",
    "\n",
    "On the other hand, in the Southern Hemisphere analysis, we might observe a different pattern. Since the Southern Hemisphere has opposite latitudinal values compared to the Northern Hemisphere, the regression lines would likely have negative slopes. This would indicate a slight decrease in the variable as we move towards higher latitudes in the Southern Hemisphere. Again, it's important to consider that other factors and variables may have a stronger influence on the observed patterns.\n",
    "\n",
    "Additionally, the R-squared values obtained from the linear regression analyses would provide insights into the strength of the relationships. A higher R-squared value suggests that a larger proportion of the variance in the variable can be explained by latitude. Conversely, a lower R-squared value implies that latitude alone may not be a robust predictor of the variable.\n",
    "\n",
    "To gain a more comprehensive understanding of the relationships in both hemispheres, it is recommended to consider additional factors such as local climate patterns, geography, seasonal variations, and atmospheric conditions. By incorporating these factors into the analysis, we can obtain a more accurate depiction of the complex interactions influencing the variables of interest in each hemisphere."
   ]
  },
  {
   "cell_type": "markdown",
   "metadata": {},
   "source": [
    "### Cloudiness vs. Latitude Linear Regression Plot"
   ]
  },
  {
   "cell_type": "code",
   "execution_count": null,
   "metadata": {},
   "outputs": [],
   "source": [
    "# Perform linear regression on Northern Hemisphere Cloudiness vs latitude\n",
    "x_values = northern_hemi_df[\"Lat\"]\n",
    "y_values = northern_hemi_df[\"Cloudiness\"]\n",
    "plot_linear_regression(x_values, y_values, \"Linear Regression: Northern Hemisphere - Cloudiness vs. Latitude\",\n",
    "                       \"Latitude\", \"Humidity (%)\", (40, 10))\n"
   ]
  },
  {
   "cell_type": "code",
   "execution_count": null,
   "metadata": {},
   "outputs": [],
   "source": [
    "# Perform linear regression on Southern Hemisphere Cloudiness vs latitude\n",
    "x_values = southern_hemi_df[\"Lat\"]\n",
    "y_values = southern_hemi_df[\"Cloudiness\"]\n",
    "plot_linear_regression(x_values, y_values, \"Linear Regression: Southern Hemisphere - Cloudiness vs. Latitude\",\n",
    "                       \"Latitude\", \"Humidity (%)\", (-50, 20))\n"
   ]
  },
  {
   "cell_type": "markdown",
   "metadata": {},
   "source": [
    "When comparing the Cloudiness vs. Latitude linear regression plots between the Northern Hemisphere and the Southern Hemisphere, distinct patterns may emerge.\n",
    "\n",
    "In the Northern Hemisphere, the linear regression plot for Cloudiness vs. Latitude demonstrates a scattered distribution of data points. The regression line has a slight positive slope, indicating a modest increase in cloudiness as we move towards higher latitudes. However, the dispersion of the data points suggests that latitude alone is not a strong predictor of cloudiness. Other factors, such as local weather systems, terrain features, and atmospheric conditions, likely play significant roles in determining cloudiness levels in the Northern Hemisphere.\n",
    "\n",
    "In contrast, the Southern Hemisphere's linear regression plot for Cloudiness vs. Latitude might exhibit different characteristics. Due to the reversed latitudinal values, the regression line would likely have a negative slope, suggesting a slight decrease in cloudiness as we move towards higher latitudes in the Southern Hemisphere. Similar to the Northern Hemisphere, the scatter of data points implies that latitude alone might not be a reliable indicator of cloudiness. Factors unique to the Southern Hemisphere, such as prevailing wind patterns and oceanic influences, may exert more substantial control over cloudiness patterns.\n",
    "\n",
    "Comparing the R-squared values between the two regression analyses can provide additional insights. A higher R-squared value indicates that a larger proportion of the cloudiness variance can be explained by latitude. Conversely, a lower R-squared value suggests that latitude alone may not be a robust predictor of cloudiness in either hemisphere.\n",
    "\n",
    "To gain a comprehensive understanding of cloudiness patterns in both hemispheres, it is crucial to consider additional factors. Local climate phenomena, geographical features, seasonal variations, and prevailing wind directions are among the variables that might contribute to cloudiness variations. By incorporating these factors into the analysis, we can obtain a more accurate depiction of the complex dynamics influencing cloudiness in the Northern and Southern Hemispheres.\n",
    "\n",
    "In summary, while the linear regression plots for Cloudiness vs. Latitude in the Northern and Southern Hemispheres may exhibit different slopes, both plots indicate that latitude alone is not a strong predictor of cloudiness. Understanding the interplay between latitude and various regional factors is essential for unraveling the intricate relationships and obtaining a more comprehensive understanding of cloudiness patterns in each hemisphere."
   ]
  },
  {
   "cell_type": "markdown",
   "metadata": {},
   "source": [
    "### Wind Speed vs. Latitude Linear Regression Plot"
   ]
  },
  {
   "cell_type": "code",
   "execution_count": null,
   "metadata": {},
   "outputs": [],
   "source": [
    "# Perform linear regression on Northern Hemisphere wind speed vs latitude\n",
    "x_values = northern_hemi_df[\"Lat\"]\n",
    "y_values = northern_hemi_df[\"Wind Speed\"]\n",
    "plot_linear_regression(x_values, y_values, \"Linear Regression: Northern Hemisphere - Wind Speed vs. Latitude\",\n",
    "                       \"Latitude\", \"Wind Speed (mph)\", (40, 10))\n"
   ]
  },
  {
   "cell_type": "code",
   "execution_count": null,
   "metadata": {},
   "outputs": [],
   "source": [
    "# Perform linear regression on Southern Hemisphere wind speed vs latitude\n",
    "x_values = southern_hemi_df[\"Lat\"]\n",
    "y_values = southern_hemi_df[\"Wind Speed\"]\n",
    "plot_linear_regression(x_values, y_values, \"Linear Regression: Southern Hemisphere - Wind Speed vs. Latitude\",\n",
    "                       \"Latitude\", \"Wind Speed (mph)\", (-50, 20))\n"
   ]
  },
  {
   "cell_type": "markdown",
   "metadata": {},
   "source": [
    "When examining the Wind Speed vs. Latitude linear regression plots between the Northern Hemisphere and the Southern Hemisphere, distinctive characteristics and trends can emerge.\n",
    "\n",
    "In the Northern Hemisphere, the linear regression plot for Wind Speed vs. Latitude reveals a scattered distribution of data points. The regression line generally shows a slight increase in wind speed as we move towards higher latitudes, indicating a potential correlation between latitude and wind speed. However, the dispersion of the data points suggests that latitude alone is not a strong predictor of wind speed. Other factors, such as local topography, temperature gradients, and atmospheric pressure systems, significantly influence wind patterns in the Northern Hemisphere.\n",
    "\n",
    "In the Southern Hemisphere, the linear regression plot might present a different pattern. Due to the reversed latitudinal values, the regression line would likely have a negative slope, indicating a potential decrease in wind speed as we move towards higher latitudes in the Southern Hemisphere. Similarly, latitude alone may not be a robust predictor of wind speed, and factors specific to the Southern Hemisphere, such as ocean currents and wind circulation patterns, may have a more substantial influence.\n",
    "\n",
    "Comparing the R-squared values between the two regression analyses can provide further insights. A higher R-squared value signifies a greater proportion of the wind speed variance that can be explained by latitude. Conversely, a lower R-squared value implies that latitude alone may not be a strong predictor of wind speed in either hemisphere.\n",
    "\n",
    "To comprehensively understand wind speed patterns in both hemispheres, it is crucial to consider additional variables. Factors such as local topography, proximity to bodies of water, atmospheric pressure gradients, and large-scale weather systems play significant roles in shaping wind patterns. Incorporating these variables into the analysis can provide a more accurate understanding of the complex dynamics influencing wind speed in the Northern and Southern Hemispheres.\n",
    "\n",
    "In summary, the Wind Speed vs. Latitude linear regression plots demonstrate some trends between wind speed and latitude in both hemispheres. However, latitude alone does not provide a complete explanation for wind speed variations. Understanding the interactions between latitude and other atmospheric and geographical factors is essential for gaining a comprehensive understanding of wind speed patterns in each hemisphere."
   ]
  }
 ],
 "metadata": {
  "anaconda-cloud": {},
  "kernel_info": {
   "name": "python3"
  },
  "kernelspec": {
   "display_name": "Python 3 (ipykernel)",
   "language": "python",
   "name": "python3"
  },
  "language_info": {
   "codemirror_mode": {
    "name": "ipython",
    "version": 3
   },
   "file_extension": ".py",
   "mimetype": "text/x-python",
   "name": "python",
   "nbconvert_exporter": "python",
   "pygments_lexer": "ipython3",
   "version": "3.9.13"
  },
  "latex_envs": {
   "LaTeX_envs_menu_present": true,
   "autoclose": false,
   "autocomplete": true,
   "bibliofile": "biblio.bib",
   "cite_by": "apalike",
   "current_citInitial": 1,
   "eqLabelWithNumbers": true,
   "eqNumInitial": 1,
   "hotkeys": {
    "equation": "Ctrl-E",
    "itemize": "Ctrl-I"
   },
   "labels_anchors": false,
   "latex_user_defs": false,
   "report_style_numbering": false,
   "user_envs_cfg": false
  },
  "nteract": {
   "version": "0.12.3"
  }
 },
 "nbformat": 4,
 "nbformat_minor": 4
}
